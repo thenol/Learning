{
 "cells": [
  {
   "cell_type": "code",
   "execution_count": 96,
   "metadata": {},
   "outputs": [],
   "source": [
    "import pandas as pd\n",
    "import numpy as np\n",
    "import matplotlib.pyplot as plt\n",
    "from sklearn.preprocessing import MinMaxScaler"
   ]
  },
  {
   "cell_type": "code",
   "execution_count": 3,
   "metadata": {},
   "outputs": [],
   "source": [
    "data=pd.read_excel(\"./time1.xlsx\")"
   ]
  },
  {
   "cell_type": "code",
   "execution_count": 4,
   "metadata": {},
   "outputs": [
    {
     "data": {
      "text/html": [
       "<div>\n",
       "<style scoped>\n",
       "    .dataframe tbody tr th:only-of-type {\n",
       "        vertical-align: middle;\n",
       "    }\n",
       "\n",
       "    .dataframe tbody tr th {\n",
       "        vertical-align: top;\n",
       "    }\n",
       "\n",
       "    .dataframe thead th {\n",
       "        text-align: right;\n",
       "    }\n",
       "</style>\n",
       "<table border=\"1\" class=\"dataframe\">\n",
       "  <thead>\n",
       "    <tr style=\"text-align: right;\">\n",
       "      <th></th>\n",
       "      <th>用户ID</th>\n",
       "      <th>IDnumber</th>\n",
       "      <th>ICSR1</th>\n",
       "      <th>ICSR2</th>\n",
       "      <th>ICSR3</th>\n",
       "      <th>ICSR4</th>\n",
       "      <th>ICSR5</th>\n",
       "      <th>ICSR6</th>\n",
       "      <th>meanICSR</th>\n",
       "      <th>ECSRCS1</th>\n",
       "      <th>...</th>\n",
       "      <th>gender</th>\n",
       "      <th>age</th>\n",
       "      <th>edu</th>\n",
       "      <th>tenure</th>\n",
       "      <th>position</th>\n",
       "      <th>size</th>\n",
       "      <th>industry</th>\n",
       "      <th>Q5_8</th>\n",
       "      <th>diff</th>\n",
       "      <th>ICSRECSR</th>\n",
       "    </tr>\n",
       "  </thead>\n",
       "  <tbody>\n",
       "    <tr>\n",
       "      <td>0</td>\n",
       "      <td>ABumbaDwmunn</td>\n",
       "      <td>1</td>\n",
       "      <td>5</td>\n",
       "      <td>6</td>\n",
       "      <td>5</td>\n",
       "      <td>6</td>\n",
       "      <td>6</td>\n",
       "      <td>5</td>\n",
       "      <td>4.857143</td>\n",
       "      <td>6</td>\n",
       "      <td>...</td>\n",
       "      <td>1</td>\n",
       "      <td>1</td>\n",
       "      <td>4</td>\n",
       "      <td>3</td>\n",
       "      <td>2</td>\n",
       "      <td>2</td>\n",
       "      <td>3</td>\n",
       "      <td>3876</td>\n",
       "      <td>0.597403</td>\n",
       "      <td>26.493506</td>\n",
       "    </tr>\n",
       "    <tr>\n",
       "      <td>1</td>\n",
       "      <td>spNCNcACJuUG</td>\n",
       "      <td>2</td>\n",
       "      <td>6</td>\n",
       "      <td>7</td>\n",
       "      <td>6</td>\n",
       "      <td>4</td>\n",
       "      <td>5</td>\n",
       "      <td>6</td>\n",
       "      <td>5.666667</td>\n",
       "      <td>5</td>\n",
       "      <td>...</td>\n",
       "      <td>1</td>\n",
       "      <td>1</td>\n",
       "      <td>4</td>\n",
       "      <td>1</td>\n",
       "      <td>1</td>\n",
       "      <td>4</td>\n",
       "      <td>1</td>\n",
       "      <td>3730</td>\n",
       "      <td>0.000000</td>\n",
       "      <td>30.393939</td>\n",
       "    </tr>\n",
       "    <tr>\n",
       "      <td>2</td>\n",
       "      <td>kaIvoYxnThI5</td>\n",
       "      <td>3</td>\n",
       "      <td>6</td>\n",
       "      <td>5</td>\n",
       "      <td>7</td>\n",
       "      <td>5</td>\n",
       "      <td>4</td>\n",
       "      <td>2</td>\n",
       "      <td>4.833333</td>\n",
       "      <td>4</td>\n",
       "      <td>...</td>\n",
       "      <td>1</td>\n",
       "      <td>1</td>\n",
       "      <td>4</td>\n",
       "      <td>2</td>\n",
       "      <td>1</td>\n",
       "      <td>4</td>\n",
       "      <td>4</td>\n",
       "      <td>4040</td>\n",
       "      <td>0.803030</td>\n",
       "      <td>27.242424</td>\n",
       "    </tr>\n",
       "    <tr>\n",
       "      <td>3</td>\n",
       "      <td>IZ1Lz4p5ruR1</td>\n",
       "      <td>4</td>\n",
       "      <td>7</td>\n",
       "      <td>7</td>\n",
       "      <td>7</td>\n",
       "      <td>6</td>\n",
       "      <td>7</td>\n",
       "      <td>6</td>\n",
       "      <td>6.666667</td>\n",
       "      <td>6</td>\n",
       "      <td>...</td>\n",
       "      <td>1</td>\n",
       "      <td>2</td>\n",
       "      <td>2</td>\n",
       "      <td>3</td>\n",
       "      <td>1</td>\n",
       "      <td>1</td>\n",
       "      <td>1</td>\n",
       "      <td>349</td>\n",
       "      <td>0.000000</td>\n",
       "      <td>43.030303</td>\n",
       "    </tr>\n",
       "    <tr>\n",
       "      <td>4</td>\n",
       "      <td>9f1cuLM1Hi8Z</td>\n",
       "      <td>5</td>\n",
       "      <td>6</td>\n",
       "      <td>6</td>\n",
       "      <td>7</td>\n",
       "      <td>5</td>\n",
       "      <td>5</td>\n",
       "      <td>6</td>\n",
       "      <td>5.833333</td>\n",
       "      <td>6</td>\n",
       "      <td>...</td>\n",
       "      <td>0</td>\n",
       "      <td>1</td>\n",
       "      <td>3</td>\n",
       "      <td>3</td>\n",
       "      <td>1</td>\n",
       "      <td>3</td>\n",
       "      <td>2</td>\n",
       "      <td>315</td>\n",
       "      <td>0.000000</td>\n",
       "      <td>33.409091</td>\n",
       "    </tr>\n",
       "  </tbody>\n",
       "</table>\n",
       "<p>5 rows × 75 columns</p>\n",
       "</div>"
      ],
      "text/plain": [
       "           用户ID  IDnumber  ICSR1  ICSR2  ICSR3  ICSR4  ICSR5  ICSR6  meanICSR  \\\n",
       "0  ABumbaDwmunn         1      5      6      5      6      6      5  4.857143   \n",
       "1  spNCNcACJuUG         2      6      7      6      4      5      6  5.666667   \n",
       "2  kaIvoYxnThI5         3      6      5      7      5      4      2  4.833333   \n",
       "3  IZ1Lz4p5ruR1         4      7      7      7      6      7      6  6.666667   \n",
       "4  9f1cuLM1Hi8Z         5      6      6      7      5      5      6  5.833333   \n",
       "\n",
       "   ECSRCS1  ...  gender  age  edu  tenure  position  size  industry  Q5_8  \\\n",
       "0        6  ...       1    1    4       3         2     2         3  3876   \n",
       "1        5  ...       1    1    4       1         1     4         1  3730   \n",
       "2        4  ...       1    1    4       2         1     4         4  4040   \n",
       "3        6  ...       1    2    2       3         1     1         1   349   \n",
       "4        6  ...       0    1    3       3         1     3         2   315   \n",
       "\n",
       "       diff   ICSRECSR  \n",
       "0  0.597403  26.493506  \n",
       "1  0.000000  30.393939  \n",
       "2  0.803030  27.242424  \n",
       "3  0.000000  43.030303  \n",
       "4  0.000000  33.409091  \n",
       "\n",
       "[5 rows x 75 columns]"
      ]
     },
     "execution_count": 4,
     "metadata": {},
     "output_type": "execute_result"
    }
   ],
   "source": [
    "data.head()"
   ]
  },
  {
   "cell_type": "code",
   "execution_count": 5,
   "metadata": {},
   "outputs": [
    {
     "data": {
      "text/plain": [
       "Index(['用户ID', 'IDnumber', 'ICSR1', 'ICSR2', 'ICSR3', 'ICSR4', 'ICSR5',\n",
       "       'ICSR6', 'meanICSR', 'ECSRCS1', 'ECSRCS2', 'ECSRCS3', 'ECSRCS4',\n",
       "       'ECSREN1', 'ECSREN2', 'ECSREN3', 'ECSREN4', 'ECSRCO1', 'ECSRCO2',\n",
       "       'ECSRCO3', 'meanECSR', 'PVBE1', 'PVBE2', 'PVBE3', 'PVBE4', 'PVUN1',\n",
       "       'PVUN2', 'PVUN3', 'PVUN4', 'PVUN5', 'PVUN6', 'PVEN', 'PVAC1', 'PVAC2',\n",
       "       'PVAC3', 'PVAC4', 'PVPO1', 'PVPO2', 'PVPO3', 'PVTR', 'RD1', 'RD2',\n",
       "       'RD3', 'meanRD', 'PCB1', 'PCB2', 'PCB3', 'PCB4', 'PCB5', 'MeanPCB',\n",
       "       'SD1', 'SD2', 'SD3', 'SD4', 'SD5', 'SD6', 'SD7', 'SD8', 'SD9', 'SD10',\n",
       "       'SD11', 'SD12', 'SD13', 'SD14', 'SD', 'gender', 'age', 'edu', 'tenure',\n",
       "       'position', 'size', 'industry', 'Q5_8', 'diff', 'ICSRECSR'],\n",
       "      dtype='object')"
      ]
     },
     "execution_count": 5,
     "metadata": {},
     "output_type": "execute_result"
    }
   ],
   "source": [
    "data.columns"
   ]
  },
  {
   "cell_type": "code",
   "execution_count": 6,
   "metadata": {},
   "outputs": [],
   "source": [
    "inner=data.loc[:,['ICSR1', 'ICSR2', 'ICSR3', 'ICSR4', 'ICSR5',\n",
    "       'ICSR6']].mean(axis=1)"
   ]
  },
  {
   "cell_type": "code",
   "execution_count": 7,
   "metadata": {},
   "outputs": [],
   "source": [
    "outer=data.loc[:,['ECSRCS1', 'ECSRCS2', 'ECSRCS3', 'ECSRCS4',\n",
    "       'ECSREN1', 'ECSREN2', 'ECSREN3', 'ECSREN4', 'ECSRCO1', 'ECSRCO2',\n",
    "       'ECSRCO3']].mean(axis=1)"
   ]
  },
  {
   "cell_type": "code",
   "execution_count": 57,
   "metadata": {},
   "outputs": [],
   "source": [
    "mean_rd=data.loc[:,['RD1', 'RD2',\n",
    "       'RD3']].mean(axis=1)"
   ]
  },
  {
   "cell_type": "code",
   "execution_count": 62,
   "metadata": {},
   "outputs": [],
   "source": [
    "mean_pcb=data.loc[:,['PCB1', 'PCB2', 'PCB3', 'PCB4', 'PCB5']].mean(axis=1)"
   ]
  },
  {
   "cell_type": "code",
   "execution_count": 58,
   "metadata": {},
   "outputs": [],
   "source": [
    "diff=outer-inner"
   ]
  },
  {
   "cell_type": "code",
   "execution_count": 69,
   "metadata": {},
   "outputs": [],
   "source": [
    "# plt.plot(diff,mean_pcb)"
   ]
  },
  {
   "cell_type": "code",
   "execution_count": 74,
   "metadata": {},
   "outputs": [],
   "source": [
    "# np.corrcoef(diff,mean_pcb,rowvar=False)\n",
    "# diff.describe(),mean_pcb.describe(),mean_pcb.describe()"
   ]
  },
  {
   "cell_type": "code",
   "execution_count": 91,
   "metadata": {},
   "outputs": [],
   "source": [
    "# normalization\n",
    "main=pd.DataFrame(np.array([diff,mean_rd,mean_pcb]).T,columns=['diff','mean_rd','mean_pcb'])"
   ]
  },
  {
   "cell_type": "code",
   "execution_count": 98,
   "metadata": {},
   "outputs": [],
   "source": [
    "scaler=MinMaxScaler()"
   ]
  },
  {
   "cell_type": "code",
   "execution_count": 102,
   "metadata": {},
   "outputs": [],
   "source": [
    "res=scaler.fit_transform(main.loc[:,['mean_rd','mean_pcb']])"
   ]
  },
  {
   "cell_type": "code",
   "execution_count": 133,
   "metadata": {},
   "outputs": [],
   "source": [
    "main_norm_data=np.hstack((np.array(diff).reshape(-1,1),res))"
   ]
  },
  {
   "cell_type": "code",
   "execution_count": 146,
   "metadata": {},
   "outputs": [],
   "source": [
    "main_normalize=pd.DataFrame(main_norm_data,columns=['diff','mean_rd','mean_pcb'])"
   ]
  },
  {
   "cell_type": "code",
   "execution_count": 147,
   "metadata": {
    "collapsed": true,
    "jupyter": {
     "outputs_hidden": true
    }
   },
   "outputs": [
    {
     "data": {
      "text/html": [
       "<div>\n",
       "<style scoped>\n",
       "    .dataframe tbody tr th:only-of-type {\n",
       "        vertical-align: middle;\n",
       "    }\n",
       "\n",
       "    .dataframe tbody tr th {\n",
       "        vertical-align: top;\n",
       "    }\n",
       "\n",
       "    .dataframe thead th {\n",
       "        text-align: right;\n",
       "    }\n",
       "</style>\n",
       "<table border=\"1\" class=\"dataframe\">\n",
       "  <thead>\n",
       "    <tr style=\"text-align: right;\">\n",
       "      <th></th>\n",
       "      <th>mean_rd</th>\n",
       "      <th>mean_pcb</th>\n",
       "    </tr>\n",
       "    <tr>\n",
       "      <th>diff</th>\n",
       "      <th></th>\n",
       "      <th></th>\n",
       "    </tr>\n",
       "  </thead>\n",
       "  <tbody>\n",
       "    <tr>\n",
       "      <td>-0.045455</td>\n",
       "      <td>0.333333</td>\n",
       "      <td>0.631579</td>\n",
       "    </tr>\n",
       "    <tr>\n",
       "      <td>-0.303030</td>\n",
       "      <td>0.166667</td>\n",
       "      <td>0.736842</td>\n",
       "    </tr>\n",
       "    <tr>\n",
       "      <td>0.803030</td>\n",
       "      <td>0.722222</td>\n",
       "      <td>0.473684</td>\n",
       "    </tr>\n",
       "    <tr>\n",
       "      <td>-0.212121</td>\n",
       "      <td>0.111111</td>\n",
       "      <td>0.421053</td>\n",
       "    </tr>\n",
       "    <tr>\n",
       "      <td>-0.106061</td>\n",
       "      <td>0.222222</td>\n",
       "      <td>0.578947</td>\n",
       "    </tr>\n",
       "    <tr>\n",
       "      <td>...</td>\n",
       "      <td>...</td>\n",
       "      <td>...</td>\n",
       "    </tr>\n",
       "    <tr>\n",
       "      <td>0.590909</td>\n",
       "      <td>0.111111</td>\n",
       "      <td>0.578947</td>\n",
       "    </tr>\n",
       "    <tr>\n",
       "      <td>0.590909</td>\n",
       "      <td>0.333333</td>\n",
       "      <td>0.894737</td>\n",
       "    </tr>\n",
       "    <tr>\n",
       "      <td>-0.439394</td>\n",
       "      <td>0.500000</td>\n",
       "      <td>0.526316</td>\n",
       "    </tr>\n",
       "    <tr>\n",
       "      <td>-0.333333</td>\n",
       "      <td>0.111111</td>\n",
       "      <td>0.631579</td>\n",
       "    </tr>\n",
       "    <tr>\n",
       "      <td>0.469697</td>\n",
       "      <td>0.611111</td>\n",
       "      <td>0.526316</td>\n",
       "    </tr>\n",
       "  </tbody>\n",
       "</table>\n",
       "<p>489 rows × 2 columns</p>\n",
       "</div>"
      ],
      "text/plain": [
       "            mean_rd  mean_pcb\n",
       "diff                         \n",
       "-0.045455  0.333333  0.631579\n",
       "-0.303030  0.166667  0.736842\n",
       " 0.803030  0.722222  0.473684\n",
       "-0.212121  0.111111  0.421053\n",
       "-0.106061  0.222222  0.578947\n",
       "...             ...       ...\n",
       " 0.590909  0.111111  0.578947\n",
       " 0.590909  0.333333  0.894737\n",
       "-0.439394  0.500000  0.526316\n",
       "-0.333333  0.111111  0.631579\n",
       " 0.469697  0.611111  0.526316\n",
       "\n",
       "[489 rows x 2 columns]"
      ]
     },
     "execution_count": 147,
     "metadata": {},
     "output_type": "execute_result"
    }
   ],
   "source": [
    "main_normalize.set_index('diff')"
   ]
  },
  {
   "cell_type": "code",
   "execution_count": 152,
   "metadata": {},
   "outputs": [],
   "source": [
    "main_normalize.sort_values('diff',inplace=True)"
   ]
  },
  {
   "cell_type": "code",
   "execution_count": 163,
   "metadata": {},
   "outputs": [],
   "source": [
    "main_diff,main_rd,main_pcb=main_normalize.loc[:,'diff'],main_normalize.loc[:,'mean_rd'],main_normalize.loc[:,'mean_pcb']"
   ]
  },
  {
   "cell_type": "code",
   "execution_count": 178,
   "metadata": {},
   "outputs": [
    {
     "data": {
      "text/plain": [
       "(489, 3)"
      ]
     },
     "execution_count": 178,
     "metadata": {},
     "output_type": "execute_result"
    }
   ],
   "source": [
    "source=np.array([diff,mean_rd,mean_pcb]).T\n",
    "np.lexsort()"
   ]
  },
  {
   "cell_type": "code",
   "execution_count": null,
   "metadata": {},
   "outputs": [],
   "source": [
    "scaler=MinMaxScaler(feature_range=[-200,300])\n",
    "main_diff=scaler.fit_transform(np.array(main_diff).reshape(-1,1))\n",
    "plt.figure(figsize=(10,8))\n",
    "start=300\n",
    "end=450\n",
    "plt.plot(main_diff[start:end],main_rd[start:end],'-')\n",
    "# plt.plot(main_diff,main_pcb)\n"
   ]
  },
  {
   "cell_type": "code",
   "execution_count": null,
   "metadata": {},
   "outputs": [],
   "source": []
  },
  {
   "cell_type": "code",
   "execution_count": null,
   "metadata": {},
   "outputs": [],
   "source": []
  }
 ],
 "metadata": {
  "kernelspec": {
   "display_name": "Python 3.7.3 64-bit",
   "language": "python",
   "name": "python37364bit845c39f0331744d997a795296d851b53"
  },
  "language_info": {
   "codemirror_mode": {
    "name": "ipython",
    "version": 3
   },
   "file_extension": ".py",
   "mimetype": "text/x-python",
   "name": "python",
   "nbconvert_exporter": "python",
   "pygments_lexer": "ipython3",
   "version": "3.7.4"
  }
 },
 "nbformat": 4,
 "nbformat_minor": 4
}
